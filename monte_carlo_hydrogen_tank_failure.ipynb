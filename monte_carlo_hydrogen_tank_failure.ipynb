{
  "nbformat": 4,
  "nbformat_minor": 0,
  "metadata": {
    "anaconda-cloud": {},
    "kernelspec": {
      "display_name": "Python 3",
      "language": "python",
      "name": "python3"
    },
    "language_info": {
      "codemirror_mode": {
        "name": "ipython",
        "version": 3
      },
      "file_extension": ".py",
      "mimetype": "text/x-python",
      "name": "python",
      "nbconvert_exporter": "python",
      "pygments_lexer": "ipython3",
      "version": "3.9.2"
    },
    "colab": {
      "name": "monte-carlo-hydrogen-tank-failure.ipynb",
      "provenance": [],
      "include_colab_link": true
    }
  },
  "cells": [
    {
      "cell_type": "markdown",
      "metadata": {
        "id": "view-in-github",
        "colab_type": "text"
      },
      "source": [
        "<a href=\"https://colab.research.google.com/github/Above02/MC/blob/main/monte_carlo_hydrogen_tank_failure.ipynb\" target=\"_parent\"><img src=\"https://colab.research.google.com/assets/colab-badge.svg\" alt=\"Open In Colab\"/></a>"
      ]
    },
    {
      "cell_type": "markdown",
      "metadata": {
        "id": "a2sdX2mGSs6t"
      },
      "source": [
        "# Monte Carlo simulation of failure probability of a hydrogen tank"
      ]
    },
    {
      "cell_type": "markdown",
      "metadata": {
        "id": "mLMBNbhjSs6x"
      },
      "source": [
        "\n",
        "This notebook contains an introduction to use of Python and the NumPy library for Monte Carlo simulation applied to a mechanical design problem, used for estimating failure probability. \n",
        "\n",
        "**Acknowledgement**. The problem description in this notebook is taken from [UQWorld](https://uqworld.org/t/liquid-hydrogen-tank-problem/58), who themselves extracted the problem from the article by Bichon et al in 2011 cited below. "
      ]
    },
    {
      "cell_type": "code",
      "metadata": {
        "id": "OuQT9hEaSs6y"
      },
      "source": [
        "import numpy\n",
        "import scipy.stats\n",
        "import matplotlib.pyplot as plt\n",
        "plt.style.use(\"bmh\")"
      ],
      "execution_count": null,
      "outputs": []
    },
    {
      "cell_type": "markdown",
      "metadata": {
        "id": "Q-046ziLSs6z"
      },
      "source": [
        "## Problem statement"
      ]
    },
    {
      "cell_type": "markdown",
      "metadata": {
        "id": "eEqaKUCpSs6z"
      },
      "source": [
        "The 5-dimensional liquid hydrogen tank problem is a reliability analysis benchmark problem (Bichon et al., 2011). The problem consists in quantifying the failure probability of a liquid hydrogen fuel tank on a space launch vehicle. The structure of the tank is subjected to stresses caused by ullage (empty space) pressure, head pressure (caused by the weight of the fuel), axial forces due to acceleration, and bending and shear stresses caused by the weight of the fuel.\n",
        "\n",
        "\n",
        "Three different failure modes exist for the tank:\n",
        "\n",
        "- [Von Mises stress](https://en.wikipedia.org/wiki/Von_Mises_yield_criterion) failure ($PVM$)\n",
        "- Isotropic strength failure ($PIS$)\n",
        "- Honeycomb buckling failure ($PHB$)\n"
      ]
    },
    {
      "cell_type": "markdown",
      "metadata": {
        "id": "zrDSwsFdSs60"
      },
      "source": [
        "The limit state function of the overall system is then defined as:\n",
        "\n",
        "$$g(x) = \\min(PVM, PIS, PHB)$$\n",
        "\n",
        "where:\n",
        "\n",
        "$$PVM = \\frac{8400 \\cdot t_{plate}}{\\sqrt{N_x^2 + N_y^2 - N_xN_y + 3N_{xy}^2}} - 1$$\n",
        "\n",
        "$$PIS = \\frac{8400 \\cdot t_{plate}}{|Ny|} - 1$$\n",
        "\n",
        "$$PHB = 0.847 + 0.96 \\cdot x_1 + 0.986 \\cdot x_2 - 0.216 \\cdot x_3 + 0.077 \\cdot x_1^2 + 0.11 \\cdot x_2^2\n",
        "+ 0.007 \\cdot x_3^2 + 0.378 \\cdot x_1x_2 - 0.106 \\cdot x_1x_3 - 0.11 \\cdot x_2x_3$$\n",
        "\n",
        "and:\n",
        "\n",
        "$x_1 = 4 * (t_{plate} - 0.075)$\n",
        "\n",
        "$x_2 = 20 * (t_h - 0.1)$\n",
        "\n",
        "$x_3 = -6000 * (\\frac{1}{N_{xy}} + 0.003)$"
      ]
    },
    {
      "cell_type": "markdown",
      "metadata": {
        "id": "CKn3NEimSs61"
      },
      "source": [
        "The failure event is defined as $g(x) ≤ 0$ (this means that one or more of PVM, PIS and PHB have failed).\n",
        "\n",
        "Source article: B. J. Bichon, J. M. McFarland, and S. Mahadevan, “Efficient surrogate models for reliability analysis of systems with multiple failure modes”, Reliability Engineering & System Safety, 96(10):1386-1395, 2011. DOI: [10.1016/j.ress.2011.05.008](https://doi.org/10.1016/j.ress.2011.05.008). "
      ]
    },
    {
      "cell_type": "markdown",
      "metadata": {
        "id": "MwNG2i7CSs62"
      },
      "source": [
        "## Input variables\n",
        "\n",
        "We will make the following **assumptions** concerning the distribution of our input variables, which we assume are independent:\n",
        "\n",
        "| Name        | Distribution           | Description                 |\n",
        "|-------------|------------------------|-----------------------------|\n",
        "| $t_{plate}$ | Normal(0.07433, 0.005) | Plate thickness             |\n",
        "| $t_h$       | Normal(0.1, 0.01)      | Honeycomb thickness         |\n",
        "| $N_x$       | Normal(13, 60)         | Load on tank, x-component   |\n",
        "| $N_y$       | Normal(4751, 48)       | Load on tank, y-component   |\n",
        "| $N_{xy}$    | Normal(-648, 11)       | Load on tank, xy-component  |\n",
        "\n",
        "\n",
        "We want to use a Monte Carlo simulation to estimate the probability of failure, i.e. the probability that $g(x) ≤ 0$."
      ]
    },
    {
      "cell_type": "markdown",
      "metadata": {
        "id": "IrNf2KL3Ss62"
      },
      "source": [
        "## Method \n",
        "\n",
        "Start by defining a function that generates a random input value (note that the input space is 5-dimensional, here represented using a Python dictionary), then functions that calculate the value of PVM, PIS and PHB for some input. "
      ]
    },
    {
      "cell_type": "code",
      "metadata": {
        "id": "l-jJkwCSSs63"
      },
      "source": [
        "def random_input():\n",
        "    ri = {}\n",
        "    ri[\"tplate\"] = scipy.stats.norm(0.07433, 0.005).rvs()\n",
        "    ri[\"th\"] = scipy.stats.norm(0.1, 0.01).rvs()\n",
        "    ri[\"Nx\"] = scipy.stats.norm(13, 60).rvs()\n",
        "    ri[\"Ny\"] = scipy.stats.norm(4751, 48).rvs()\n",
        "    ri[\"Nxy\"] = scipy.stats.norm(-648, 11).rvs()\n",
        "    return ri\n",
        "\n",
        "def simulated_PVM(ri):\n",
        "    div = numpy.sqrt(ri[\"Nx\"]**2 + ri[\"Ny\"]**2 - ri[\"Nx\"]*ri[\"Ny\"] + 3*ri[\"Nxy\"]**2)\n",
        "    return -1 + 84000.0 * ri[\"tplate\"] / div \n",
        "\n",
        "def simulated_PIS(ri):\n",
        "    return -1 + 84000.0 * ri[\"tplate\"] / numpy.abs(ri[\"Ny\"])\n",
        "\n",
        "def simulated_PHB(ri):\n",
        "    x1 = 4 * (ri[\"tplate\"] - 0.075)\n",
        "    x2 = 20 * (ri[\"th\"] - 0.1)\n",
        "    x3 = -6000 * (1.0/ri[\"Nxy\"] + 0.003)\n",
        "    PHB = 0.847 + 0.96 * x1 + 0.986 * x2 - 0.216 * x3 \n",
        "    PHB += 0.077 * x1**2 + 0.11 * x2**2 + 0.007 * x3**2 \n",
        "    PHB += 0.378 * x1 * x2 - 0.106 * x1 * x3 - 0.11 * x2 * x3\n",
        "    return PHB"
      ],
      "execution_count": null,
      "outputs": []
    },
    {
      "cell_type": "markdown",
      "metadata": {
        "id": "rbwXNTAESs64"
      },
      "source": [
        "To get a feeling for the phenomena we are simulating, we can plot histograms of the three failure types PVM, PIS and PHB. "
      ]
    },
    {
      "cell_type": "code",
      "metadata": {
        "id": "l20slPDjSs64",
        "outputId": "9d163ef2-9ab6-4b92-a3c3-eaad3cffe7b4"
      },
      "source": [
        "N = 1000\n",
        "PVM = numpy.empty(N)\n",
        "for i in range(N):\n",
        "    PVM[i] = simulated_PVM(random_input())\n",
        "plt.hist(PVM, bins=30, alpha=0.5)\n",
        "plt.title(\"Distribution of PVM\");"
      ],
      "execution_count": null,
      "outputs": [
        {
          "output_type": "display_data",
          "data": {
            "image/png": "[encoded data removed]",
            "text/plain": [
              "<Figure size 432x288 with 1 Axes>"
            ]
          },
          "metadata": {
            "tags": [],
            "needs_background": "dark"
          }
        }
      ]
    },
    {
      "cell_type": "code",
      "metadata": {
        "id": "fB6BnGJjSs66",
        "outputId": "505f541b-0011-42db-f950-7ebd55b522a9"
      },
      "source": [
        "PIS = numpy.empty(N)\n",
        "for i in range(N):\n",
        "    PIS[i] = simulated_PIS(random_input())\n",
        "plt.hist(PIS, bins=30, alpha=0.5)\n",
        "plt.title(\"Distribution of PIS\");"
      ],
      "execution_count": null,
      "outputs": [
        {
          "output_type": "display_data",
          "data": {
            "image/png": "[encoded data removed]",
            "text/plain": [
              "<Figure size 432x288 with 1 Axes>"
            ]
          },
          "metadata": {
            "tags": [],
            "needs_background": "dark"
          }
        }
      ]
    },
    {
      "cell_type": "code",
      "metadata": {
        "id": "4DR5lw3bSs66",
        "outputId": "9785a8c0-6d6f-4200-fcc7-14807293927c"
      },
      "source": [
        "PHB = numpy.empty(N)\n",
        "for i in range(N):\n",
        "    PHB[i] = simulated_PHB(random_input())\n",
        "plt.hist(PHB, bins=30, alpha=0.5)\n",
        "plt.title(\"Distribution of PHB\");"
      ],
      "execution_count": null,
      "outputs": [
        {
          "output_type": "display_data",
          "data": {
            "image/png": "[encoded data removed]",
            "text/plain": [
              "<Figure size 432x288 with 1 Axes>"
            ]
          },
          "metadata": {
            "tags": [],
            "needs_background": "dark"
          }
        }
      ]
    },
    {
      "cell_type": "markdown",
      "metadata": {
        "id": "wDNvl5FOSs67"
      },
      "source": [
        "Now we can use a stochastic simulation method (here a naïve Monte Carlo method) to estimate the failure probability. We run a simulation with random inputs a large number of times, and count the proportion of simulations where a failure occurred. "
      ]
    },
    {
      "cell_type": "code",
      "metadata": {
        "id": "d_SkFpPNSs67",
        "outputId": "b3836af2-69f5-45ac-a901-39f943146323"
      },
      "source": [
        "%%time\n",
        "N = 100_000\n",
        "failures = 0\n",
        "for i in range(N):\n",
        "    ri = random_input()\n",
        "    g = numpy.min([simulated_PVM(ri), simulated_PIS(ri), simulated_PHB(ri)])\n",
        "    if g <= 0:\n",
        "        failures += 1"
      ],
      "execution_count": null,
      "outputs": [
        {
          "output_type": "stream",
          "text": [
            "CPU times: user 3min 29s, sys: 918 ms, total: 3min 30s\n",
            "Wall time: 3min 27s\n"
          ],
          "name": "stdout"
        }
      ]
    },
    {
      "cell_type": "code",
      "metadata": {
        "id": "vT-yMp7WSs67",
        "outputId": "d0d2e506-33be-477e-96c7-a4f882fe1e52"
      },
      "source": [
        "# the probability of failure. Note that the article estimates this as 0.000697\n",
        "failures / float(N)"
      ],
      "execution_count": null,
      "outputs": [
        {
          "output_type": "execute_result",
          "data": {
            "text/plain": [
              "0.00058"
            ]
          },
          "metadata": {
            "tags": []
          },
          "execution_count": 7
        }
      ]
    },
    {
      "cell_type": "markdown",
      "metadata": {
        "id": "8yXKsRxySs68"
      },
      "source": [
        "## Vectorization\n",
        "\n",
        "The Jupyter magic code `%%time` used in the cell above leads to the computation time for the cell being printed. As you will have noticed if you’re executing the notebook cell by cell, the element-by-element approach used above (one calculation per loop iteration) is very very slow in Python! \n",
        "\n",
        "We can make things run faster using NumPy’s vectorization capabilities, its ability to operate on (add, subtract, take the square root, etc.) vectors of values, and not just on single values. Below, we write the functions that calculate PVM, PIS and PHB in a form that allows vectorization (each argument such as `tplate` can be either a single value or a vector of values). "
      ]
    },
    {
      "cell_type": "code",
      "metadata": {
        "id": "sBRiBDXjSs68"
      },
      "source": [
        "def simulate_PVM(tplate, th, Nx, Ny, Nxy):\n",
        "    return -1 + 84000.0 * tplate / numpy.sqrt(Nx**2 + Ny**2 - Nx*Ny + 3*Nxy**2)\n",
        "\n",
        "def simulate_PIS(tplate, th, Nx, Ny, Nxy):\n",
        "    return -1 + 84000.0 * tplate / numpy.abs(Ny)\n",
        "\n",
        "def simulate_PHB(tplate, th, Nx, Ny, Nxy):\n",
        "    x1 = 4 * (tplate - 0.075)\n",
        "    x2 = 20 * (th - 0.1)\n",
        "    x3 = -6000 * (1.0/Nxy + 0.003)\n",
        "    PHB = 0.847 + 0.96 * x1 + 0.986 * x2 - 0.216 * x3 \n",
        "    PHB += 0.077 * x1**2 + 0.11 * x2**2 + 0.007 * x3**2 \n",
        "    PHB += 0.378 * x1 * x2 - 0.106 * x1 * x3 - 0.11 * x2 * x3\n",
        "    return PHB"
      ],
      "execution_count": null,
      "outputs": []
    },
    {
      "cell_type": "markdown",
      "metadata": {
        "id": "FMLsoHALSs68"
      },
      "source": [
        "Now we run the naïve Monte Carlo simulation in vectorized form. We start by generating vectors of values for the 5 input variables, then call the failure calculation functions on these vectors. We can them compare the failure vectors itemwise with a vector full of zeros and count the number of simulations where at least one of the results was negative."
      ]
    },
    {
      "cell_type": "code",
      "metadata": {
        "id": "DKTn8UMlSs68",
        "outputId": "62225904-50e4-4f2d-bc9c-c06e55d17f68"
      },
      "source": [
        "%%time\n",
        "N = 10_000_000\n",
        "tplate = scipy.stats.norm(0.07433, 0.005).rvs(N)\n",
        "th = scipy.stats.norm(0.1, 0.01).rvs(N)\n",
        "Nx = scipy.stats.norm(13, 60).rvs(N)\n",
        "Ny = scipy.stats.norm(4751, 48).rvs(N)\n",
        "Nxy = scipy.stats.norm(-648, 11).rvs(N)\n",
        "zeros = numpy.zeros(N)\n",
        "PVM_fail = numpy.less_equal(simulate_PVM(tplate, th, Nx, Ny, Nxy), zeros)\n",
        "PIS_fail = numpy.less_equal(simulate_PIS(tplate, th, Nx, Ny, Nxy), zeros)\n",
        "PHB_fail = numpy.less_equal(simulate_PHB(tplate, th, Nx, Ny, Nxy), zeros)\n",
        "# this is the number of failures\n",
        "failures = numpy.sum(numpy.logical_or(PVM_fail, PIS_fail, PHB_fail))\n",
        "failures / float(N)"
      ],
      "execution_count": null,
      "outputs": [
        {
          "output_type": "stream",
          "text": [
            "CPU times: user 1.51 s, sys: 234 ms, total: 1.75 s\n",
            "Wall time: 1.74 s\n"
          ],
          "name": "stdout"
        },
        {
          "output_type": "execute_result",
          "data": {
            "text/plain": [
              "0.0006132"
            ]
          },
          "metadata": {
            "tags": []
          },
          "execution_count": 9
        }
      ]
    },
    {
      "cell_type": "markdown",
      "metadata": {
        "id": "5UOyn62ASs69"
      },
      "source": [
        "Note that we are running 100 times more simulations here, but the calculation is nevertheless more than 60 times faster. So the vectorization has led to a speedup of a factor of 600.\n",
        "\n",
        "Calculations of this form are nonetheless not very fast in Python. Another notebook on the [risk-engineering.org website](https://risk-engineering.org/monte-carlo-methods/) shows how to run this calculation in the [Rust programming language](https://www.rust-lang.org/), with much higher performance."
      ]
    },
    {
      "cell_type": "markdown",
      "metadata": {
        "id": "WNSTW781Ss69"
      },
      "source": [
        "## A Latin Hypercube Sampling (LHS) approach"
      ]
    },
    {
      "cell_type": "markdown",
      "metadata": {
        "id": "L352beBhSs6-"
      },
      "source": [
        "The LHS method consists of dividing the input space into a number of equiprobable regions, then taking random samples from each region. We can use it conveniently in Python thanks to the [pyDOE library](https://pythonhosted.org/pyDOE/), which you will probably need to install on your computer, using a command such as \n",
        "\n",
        "> pip install pyDOE\n",
        "\n",
        "or if you’re using a Google CoLaboratory notebook, execute a code cell containing\n",
        "\n",
        "> !pip install pyDOE\n",
        "\n",
        "The `lhs` function in this library returns an “experimental design” consisting of points in the $[0, 1]^d$ hypercube, where $d$ is the dimension of your problem (it’s 2 in this simple example). You need to scale these points to your input domain. "
      ]
    },
    {
      "cell_type": "code",
      "metadata": {
        "id": "8KBSt02wSs6-",
        "outputId": "91710af7-53dc-46d1-d6dc-116b5915bf34"
      },
      "source": [
        "%%time\n",
        "\n",
        "# obtain the pyDOE library from https://pythonhosted.org/pyDOE/\n",
        "from pyDOE import lhs\n",
        "\n",
        "N = 1000_000\n",
        "seq = lhs(5, N)\n",
        "tplate = scipy.stats.norm(0.07433, 0.005).ppf(seq[:,0])\n",
        "th = scipy.stats.norm(0.1, 0.01).ppf(seq[:,1])\n",
        "Nx = scipy.stats.norm(13, 60).ppf(seq[:,2])\n",
        "Ny = scipy.stats.norm(4751, 48).ppf(seq[:,3])\n",
        "Nxy = scipy.stats.norm(-648, 11).ppf(seq[:,4])\n",
        "zeros = numpy.zeros(N)\n",
        "PVM_fail = numpy.less_equal(simulate_PVM(tplate, th, Nx, Ny, Nxy), zeros)\n",
        "PIS_fail = numpy.less_equal(simulate_PIS(tplate, th, Nx, Ny, Nxy), zeros)\n",
        "PHB_fail = numpy.less_equal(simulate_PHB(tplate, th, Nx, Ny, Nxy), zeros)\n",
        "failures = numpy.sum(numpy.logical_or(PVM_fail, PIS_fail, PHB_fail))\n",
        "failures / float(N)"
      ],
      "execution_count": null,
      "outputs": [
        {
          "output_type": "stream",
          "text": [
            "CPU times: user 1.36 s, sys: 242 ms, total: 1.6 s\n",
            "Wall time: 1.6 s\n"
          ],
          "name": "stdout"
        },
        {
          "output_type": "execute_result",
          "data": {
            "text/plain": [
              "0.000628"
            ]
          },
          "metadata": {
            "tags": []
          },
          "execution_count": 10
        }
      ]
    },
    {
      "cell_type": "markdown",
      "metadata": {
        "id": "pyzILD4OSs6-"
      },
      "source": [
        "## Using Halton’s low discrepancy sequences"
      ]
    },
    {
      "cell_type": "markdown",
      "metadata": {
        "id": "sdv9g_IqSs6-"
      },
      "source": [
        "A [low discrepancy (or quasi-random) sequence](https://en.wikipedia.org/wiki/Low-discrepancy_sequence) is a deterministic mathematical sequence of numbers that has the property of low discrepancy. This means (informally) that there are no clusters of points and that the sequence fills space roughly uniformly. The [Halton sequence](https://en.wikipedia.org/wiki/Halton_sequence) is a low discrepancy sequence that has useful properties for pseudo-stochastic sampling methods (also called “quasi-Monte Carlo” methods). "
      ]
    },
    {
      "cell_type": "code",
      "metadata": {
        "id": "Nfam1X7oSs6_"
      },
      "source": [
        "import math\n",
        "\n",
        "# adapted from https://mail.scipy.org/pipermail/scipy-user/2013-June/034744.html\n",
        "def halton(dim: int, nbpts: int):\n",
        "    h = numpy.full(nbpts * dim, numpy.nan)\n",
        "    p = numpy.full(nbpts, numpy.nan)\n",
        "    P = [2, 3, 5, 7, 11, 13, 17, 19, 23, 29, 31]\n",
        "    lognbpts = math.log(nbpts + 1)\n",
        "    for i in range(dim):\n",
        "        b = P[i]\n",
        "        n = int(math.ceil(lognbpts / math.log(b)))\n",
        "        for t in range(n):\n",
        "            p[t] = pow(b, -(t + 1))\n",
        "\n",
        "        for j in range(nbpts):\n",
        "            d = j + 1\n",
        "            sum_ = math.fmod(d, b) * p[0]\n",
        "            for t in range(1, n):\n",
        "                d = math.floor(d / b)\n",
        "                sum_ += math.fmod(d, b) * p[t]\n",
        "\n",
        "            h[j*dim + i] = sum_\n",
        "    return h.reshape(nbpts, dim)"
      ],
      "execution_count": null,
      "outputs": []
    },
    {
      "cell_type": "code",
      "metadata": {
        "id": "3LDEZ06zSs6_",
        "outputId": "d92642dd-d832-4b94-be82-46f5aefd4c50"
      },
      "source": [
        "%%time \n",
        "\n",
        "N = 1000_000\n",
        "seq = halton(5, N)\n",
        "tplate = scipy.stats.norm(0.07433, 0.005).ppf(seq[:,0])\n",
        "th = scipy.stats.norm(0.1, 0.01).ppf(seq[:,1])\n",
        "Nx = scipy.stats.norm(13, 60).ppf(seq[:,2])\n",
        "Ny = scipy.stats.norm(4751, 48).ppf(seq[:,3])\n",
        "Nxy = scipy.stats.norm(-648, 11).ppf(seq[:,4])\n",
        "zeros = numpy.zeros(N)\n",
        "PVM_fail = numpy.less_equal(simulate_PVM(tplate, th, Nx, Ny, Nxy), zeros)\n",
        "PIS_fail = numpy.less_equal(simulate_PIS(tplate, th, Nx, Ny, Nxy), zeros)\n",
        "PHB_fail = numpy.less_equal(simulate_PHB(tplate, th, Nx, Ny, Nxy), zeros)\n",
        "failures = numpy.sum(numpy.logical_or(PVM_fail, PIS_fail, PHB_fail))\n",
        "failures / float(N)"
      ],
      "execution_count": null,
      "outputs": [
        {
          "output_type": "stream",
          "text": [
            "CPU times: user 27.2 s, sys: 30.2 ms, total: 27.2 s\n",
            "Wall time: 27.2 s\n"
          ],
          "name": "stdout"
        },
        {
          "output_type": "execute_result",
          "data": {
            "text/plain": [
              "0.000628"
            ]
          },
          "metadata": {
            "tags": []
          },
          "execution_count": 12
        }
      ]
    },
    {
      "cell_type": "markdown",
      "metadata": {
        "id": "BG5G43yHSs6_"
      },
      "source": [
        "## Attempting an analytical solution"
      ]
    },
    {
      "cell_type": "markdown",
      "metadata": {
        "id": "_MigTdwKSs7A"
      },
      "source": [
        "It’s quite easy to specify this problem in analytical terms, using the [SymPy library](https://www.sympy.org/) for symbolic calculation in Python. However, this problem is too complicated for the current version (in 2020) of SymPy, and leads to an error. (It also consumes a large amount of memory before failing.)"
      ]
    },
    {
      "cell_type": "code",
      "metadata": {
        "id": "HHf55CtGSs7A"
      },
      "source": [
        "import sympy\n",
        "import sympy.stats\n",
        "\n",
        "def analytical_PVM(tplate, th, Nx, Ny, Nxy):\n",
        "    return -1 + 84000.0 * tplate / sympy.sqrt(Nx**2 + Ny**2 - Nx*Ny + 3*Nxy**2)\n",
        "\n",
        "tplate = sympy.stats.Normal(\"tplate\", 0.07433, 0.005)\n",
        "th = sympy.stats.Normal(\"th\", 0.1, 0.01)\n",
        "Nx = sympy.stats.Normal(\"Nx\", 13, 60)\n",
        "Ny = sympy.stats.Normal(\"Ny\", 4751, 48)\n",
        "Nxy = sympy.stats.Normal(\"Nxy\", -648, 11)\n",
        "# Here we are trying to calculate the probability that PVM (one of the failure modes)\n",
        "# is <= 0. \n",
        "# Don't execute this unless you have more than 32GB of RAM! It uses large amounts of memory \n",
        "# and results in an error \"Multiple continuous random variables not supported\" for a \n",
        "# continuous probability space \n",
        "# sympy.stats.P(analytical_PVM(tplate, th, Nx, Ny, Nxy) <= 0)"
      ],
      "execution_count": null,
      "outputs": []
    },
    {
      "cell_type": "code",
      "metadata": {
        "id": "ZBvsxxYASs7A"
      },
      "source": [
        "sympy.stats.P(analytical_PVM(tplate, th, Nx, Ny, Nxy) <= 0)"
      ],
      "execution_count": null,
      "outputs": []
    },
    {
      "cell_type": "code",
      "metadata": {
        "id": "oVVCQlojSs7A"
      },
      "source": [
        ""
      ],
      "execution_count": null,
      "outputs": []
    }
  ]
}