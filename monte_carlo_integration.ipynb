{
  "nbformat": 4,
  "nbformat_minor": 0,
  "metadata": {
    "anaconda-cloud": {},
    "kernelspec": {
      "display_name": "Python 3",
      "language": "python",
      "name": "python3"
    },
    "language_info": {
      "codemirror_mode": {
        "name": "ipython",
        "version": 3
      },
      "file_extension": ".py",
      "mimetype": "text/x-python",
      "name": "python",
      "nbconvert_exporter": "python",
      "pygments_lexer": "ipython3",
      "version": "3.9.2"
    },
    "colab": {
      "name": "monte-carlo-integration.ipynb",
      "provenance": [],
      "include_colab_link": true
    }
  },
  "cells": [
    {
      "cell_type": "markdown",
      "metadata": {
        "id": "view-in-github",
        "colab_type": "text"
      },
      "source": [
        "<a href=\"https://colab.research.google.com/github/Above02/MC/blob/main/monte_carlo_integration.ipynb\" target=\"_parent\"><img src=\"https://colab.research.google.com/assets/colab-badge.svg\" alt=\"Open In Colab\"/></a>"
      ]
    },
    {
      "cell_type": "markdown",
      "metadata": {
        "id": "Os7aRIjlTHeQ"
      },
      "source": [
        "\n",
        "\n",
        "This notebook contains an introduction to the use of [NumPy](https://numpy.org/) for numerical integration using the Monte Carlo method."
      ]
    },
    {
      "cell_type": "markdown",
      "metadata": {
        "id": "KcpKViB9THeT"
      },
      "source": [
        "# Monte Carlo methods for numerical integration"
      ]
    },
    {
      "cell_type": "markdown",
      "metadata": {
        "id": "f-_jIMuITHeT"
      },
      "source": [
        "This notebook contains an illustration of the use of Monte Carlo methods for numerical integration. See the [associated course materials](https://risk-engineering.org/monte-carlo-methods/) for an introduction to the use of stochastic simulation methods and to download this content as a Jupyter/Python notebook. Numerical integration is often used to evaluate risk measures in the finance industry. \n",
        "\n",
        "## First integral \n",
        "\n",
        "**Task**: resolve the integral \n",
        "\n",
        "$\\int_1^5 x^2 dx$"
      ]
    },
    {
      "cell_type": "markdown",
      "metadata": {
        "id": "R-1HRX3DTHeU"
      },
      "source": [
        "### Analytical method"
      ]
    },
    {
      "cell_type": "markdown",
      "metadata": {
        "id": "0HSTYmEMTHeV"
      },
      "source": [
        "We start by resolving this integral using the standard analytical method, assisted by the [SymPy symbolic mathematics library](https://sympy.org/). "
      ]
    },
    {
      "cell_type": "code",
      "metadata": {
        "id": "r08MprOFTHeV",
        "outputId": "4574c683-bf76-49f1-a0c1-3f61749e46c7"
      },
      "source": [
        "import sympy\n",
        "from sympy.interactive import printing\n",
        "printing.init_printing(use_latex=\"mathjax\")\n",
        "\n",
        "x = sympy.Symbol(\"x\")\n",
        "sympy.integrate(x**2, (x, 1, 5))"
      ],
      "execution_count": null,
      "outputs": [
        {
          "output_type": "execute_result",
          "data": {
            "text/latex": "$\\displaystyle \\frac{124}{3}$",
            "text/plain": [
              "124/3"
            ]
          },
          "metadata": {
            "tags": []
          },
          "execution_count": 1
        }
      ]
    },
    {
      "cell_type": "code",
      "metadata": {
        "id": "F3l_7RdYTHeY",
        "outputId": "18ef37bd-a68b-4a28-9649-5a5be9dba213"
      },
      "source": [
        "# note that _ references the value of the previous cell\n",
        "float(_)"
      ],
      "execution_count": null,
      "outputs": [
        {
          "output_type": "execute_result",
          "data": {
            "text/latex": "$\\displaystyle 41.3333333333333$",
            "text/plain": [
              "41.333333333333336"
            ]
          },
          "metadata": {
            "tags": []
          },
          "execution_count": 2
        }
      ]
    },
    {
      "cell_type": "markdown",
      "metadata": {
        "id": "c-wNl5DhTHeY"
      },
      "source": [
        "### Numerical method"
      ]
    },
    {
      "cell_type": "markdown",
      "metadata": {
        "id": "y9jjyse4THeZ"
      },
      "source": [
        "The expression we wish to integrate is very simple here, so calculating its integral analytically is easy (even without resorting to Python’s symbolic mathematics package!). In many cases, however, analytical approaches to integration are not feasible:\n",
        "\n",
        "- the expression we wish to integrate is very complicated, possibly without a closed analytical integral\n",
        "- it is only known in “black box” form (for instance a software module): we can evaluate it at various points but don’t know the corresponding equation\n",
        "\n",
        "In such situations, stochastic simulation (“Monte Carlo”) methods allow us to generate an approximation of the integral, simply by evaluating the expression a large number of times at randomly selected points in the input space and counting the proportion that are less than the integrand at that point. The larger the number of simulations we run, the better the approximation (and note that computers are very very fast today, so on simple problems the simulation will run in a blink of an eye!). "
      ]
    },
    {
      "cell_type": "code",
      "metadata": {
        "id": "xVLzlEE_THea"
      },
      "source": [
        "import numpy"
      ],
      "execution_count": null,
      "outputs": []
    },
    {
      "cell_type": "code",
      "metadata": {
        "id": "e1OVqXZZTHea",
        "outputId": "9bd26c13-cbc1-4e63-9e21-3f16e04de278"
      },
      "source": [
        "N = 100_000\n",
        "accum = 0\n",
        "for i in range(N):\n",
        "    x = numpy.random.uniform(1, 5)\n",
        "    accum += x**2\n",
        "measure = 5 - 1\n",
        "measure * accum/float(N)"
      ],
      "execution_count": null,
      "outputs": [
        {
          "output_type": "execute_result",
          "data": {
            "text/latex": "$\\displaystyle 41.3998130943022$",
            "text/plain": [
              "41.39981309430222"
            ]
          },
          "metadata": {
            "tags": []
          },
          "execution_count": 4
        }
      ]
    },
    {
      "cell_type": "markdown",
      "metadata": {
        "id": "KHwf4TYQTHec"
      },
      "source": [
        "## Second integral\n",
        "\n",
        "**Task**: resolve the integral $\\int_3^2 x^2 + 4 x sin(x)$. "
      ]
    },
    {
      "cell_type": "markdown",
      "metadata": {
        "id": "7_dsJ7IWTHec"
      },
      "source": [
        "### Analytical solution"
      ]
    },
    {
      "cell_type": "code",
      "metadata": {
        "id": "PiDNiH11THed",
        "outputId": "faff6570-6217-4e72-b485-65f2a4d75d36"
      },
      "source": [
        "x = sympy.Symbol(\"x\")\n",
        "float(sympy.integrate(x**2 + 4 * x * sympy.sin(x), (x, 2, 3)))"
      ],
      "execution_count": null,
      "outputs": [
        {
          "output_type": "execute_result",
          "data": {
            "text/latex": "$\\displaystyle 11.8113589250983$",
            "text/plain": [
              "11.811358925098283"
            ]
          },
          "metadata": {
            "tags": []
          },
          "execution_count": 5
        }
      ]
    },
    {
      "cell_type": "markdown",
      "metadata": {
        "id": "uEolFD8XTHee"
      },
      "source": [
        "### Stochastic solution"
      ]
    },
    {
      "cell_type": "code",
      "metadata": {
        "id": "_mW9HGzZTHee",
        "outputId": "45bc1771-7b74-493b-f867-a9c303983ca9"
      },
      "source": [
        "N = 100_000\n",
        "accum = 0 \n",
        "for i in range(N):\n",
        "    x = numpy.random.uniform(2, 3)\n",
        "    accum += x**2 + 4*x*numpy.sin(x)\n",
        "measure = 3 - 2\n",
        "measure * accum/float(N)"
      ],
      "execution_count": null,
      "outputs": [
        {
          "output_type": "execute_result",
          "data": {
            "text/latex": "$\\displaystyle 11.8090624550045$",
            "text/plain": [
              "11.8090624550045"
            ]
          },
          "metadata": {
            "tags": []
          },
          "execution_count": 6
        }
      ]
    },
    {
      "cell_type": "markdown",
      "metadata": {
        "id": "s4ti3cCjTHee"
      },
      "source": [
        "**Exercise**: now undertake the same comparison of analytical and stochastic simulation methods to evaluate the integral\n",
        "\n",
        "$$\\int_1^3 e^{x^2}$$"
      ]
    },
    {
      "cell_type": "markdown",
      "metadata": {
        "id": "H6gOmo72THef"
      },
      "source": [
        "(Hint: the result should be approximately 1464.2)"
      ]
    },
    {
      "cell_type": "markdown",
      "metadata": {
        "id": "E6Xx62m7THef"
      },
      "source": [
        "## A 2D integral"
      ]
    },
    {
      "cell_type": "markdown",
      "metadata": {
        "id": "8Hy6DaLiTHef"
      },
      "source": [
        "Now we move to a 2D integral, $\\int\\int cos(x^4) + 3y^2 dx dy$ over $x ∈ [4,6]$ and $y ∈ [0, 1]$. \n",
        "\n",
        "Monte Carlo integration methods become increasingly attractive when compared to other numerical integration methods (such as quadrature) as the number of dimensions increases. "
      ]
    },
    {
      "cell_type": "markdown",
      "metadata": {
        "id": "gbUD0yWOTHef"
      },
      "source": [
        "Let’s examine the **analytical solution**, again thanks to sympy. "
      ]
    },
    {
      "cell_type": "code",
      "metadata": {
        "id": "JJKNMAKUTHeg",
        "outputId": "c389885b-a2b2-4ee2-8448-c2f2a2a9b48a"
      },
      "source": [
        "x = sympy.Symbol(\"x\")\n",
        "y = sympy.Symbol(\"y\")\n",
        "float(sympy.integrate(sympy.cos(x**4) + 3 * y**2, (x, 4, 6), (y, 0, 1)))"
      ],
      "execution_count": null,
      "outputs": [
        {
          "output_type": "execute_result",
          "data": {
            "text/latex": "$\\displaystyle 2.00505508674967$",
            "text/plain": [
              "2.005055086749674"
            ]
          },
          "metadata": {
            "tags": []
          },
          "execution_count": 7
        }
      ]
    },
    {
      "cell_type": "markdown",
      "metadata": {
        "id": "Iv1fQ7OeTHeg"
      },
      "source": [
        "Now compare with **Monte Carlo estimation**:"
      ]
    },
    {
      "cell_type": "code",
      "metadata": {
        "id": "4PpKWdFhTHeg",
        "outputId": "246b0cac-4bca-413b-e4fd-26775e07bf2c"
      },
      "source": [
        "N = 100_000\n",
        "accum = 0\n",
        "for i in range(N):\n",
        "    x = numpy.random.uniform(4, 6)\n",
        "    y = numpy.random.uniform(0, 1)\n",
        "    accum += numpy.cos(x**4) + 3 * y * y \n",
        "measure = 2 * 1\n",
        "measure * accum/float(N)"
      ],
      "execution_count": null,
      "outputs": [
        {
          "output_type": "execute_result",
          "data": {
            "text/latex": "$\\displaystyle 2.01020877356094$",
            "text/plain": [
              "2.0102087735609353"
            ]
          },
          "metadata": {
            "tags": []
          },
          "execution_count": 8
        }
      ]
    },
    {
      "cell_type": "code",
      "metadata": {
        "id": "l70w9lKMTHeh"
      },
      "source": [
        ""
      ],
      "execution_count": null,
      "outputs": []
    }
  ]
}