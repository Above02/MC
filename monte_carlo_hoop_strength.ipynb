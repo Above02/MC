{
  "nbformat": 4,
  "nbformat_minor": 0,
  "metadata": {
    "anaconda-cloud": {},
    "kernelspec": {
      "display_name": "Python 3",
      "language": "python",
      "name": "python3"
    },
    "language_info": {
      "codemirror_mode": {
        "name": "ipython",
        "version": 3
      },
      "file_extension": ".py",
      "mimetype": "text/x-python",
      "name": "python",
      "nbconvert_exporter": "python",
      "pygments_lexer": "ipython3",
      "version": "3.9.2"
    },
    "colab": {
      "name": "monte-carlo-hoop-strength.ipynb",
      "provenance": [],
      "include_colab_link": true
    }
  },
  "cells": [
    {
      "cell_type": "markdown",
      "metadata": {
        "id": "view-in-github",
        "colab_type": "text"
      },
      "source": [
        "<a href=\"https://colab.research.google.com/github/Above02/MC/blob/main/monte_carlo_hoop_strength.ipynb\" target=\"_parent\"><img src=\"https://colab.research.google.com/assets/colab-badge.svg\" alt=\"Open In Colab\"/></a>"
      ]
    },
    {
      "cell_type": "markdown",
      "metadata": {
        "id": "ThUEGLWYSUgB"
      },
      "source": [
        "# Monte Carlo simulation of failure probability in mechanical design"
      ]
    },
    {
      "cell_type": "markdown",
      "metadata": {
        "id": "23qLATQHSUgF"
      },
      "source": [
        "\n",
        "This notebook contains an introduction to use of Python and the NumPy library for Monte Carlo simulation applied to a simple mechanical strength estimation, used for estimating failure probability. "
      ]
    },
    {
      "cell_type": "code",
      "metadata": {
        "id": "oBm3U5bQSUgG"
      },
      "source": [
        "import numpy\n",
        "import scipy.stats\n",
        "import matplotlib.pyplot as plt\n",
        "plt.style.use(\"bmh\")"
      ],
      "execution_count": null,
      "outputs": []
    },
    {
      "cell_type": "markdown",
      "metadata": {
        "id": "pQkAg-bcSUgH"
      },
      "source": [
        "## Problem statement"
      ]
    },
    {
      "cell_type": "markdown",
      "metadata": {
        "id": "Oob0v8pVSUgI"
      },
      "source": [
        "The hoop strength, or circumferential stress, to which a cylindrical vessel is exposed is given by the following equation:\n",
        "\n",
        "$$\\phi_H = \\frac{P \\cdot r}{W}$$\n",
        "\n",
        "where:\n",
        "\n",
        "- $P$ is the internal pressure in the vessel (a gauge pressure, expressed in MPa)\n",
        "- $r$ is the inside radius of the pipe, expressed in mm\n",
        "- $W$ is wall thickness, expressed in mm\n",
        "- $\\phi_H$ is expressed in MPa (million Pascals)\n",
        "\n",
        "(This equation is only valid for “thin-walled” vessels, where $r$ is much larger than $t$.)\n",
        "\n",
        "Pressure vessels and piping in petrochemical plants, and airplanes whose cabins are pressurized, can be thought of as thin-walled cylindrical vessels which must resist a certain level of internal pressure. Mechanical engineers will calculate the wall thickness required to resist a given internal pressure, then take a safety factor into account.\n",
        "\n",
        "This type of analysis is a part of [stress-strain analysis](https://en.wikipedia.org/wiki/Stress%E2%80%93strain_analysis) in mechanical or civil engineering. This is used during system design to **check that a structure is safe** (that the strain on every component remains lower than the stress to which it will be exposed, plus a certain safety margin) and to **optimize the use of materials** (reduce the amount of materials used while remaining within the safety margin). For a detailed introduction to probabilistic techniques used in civil engineering, we recommend the [course notes](https://repository.tudelft.nl/islandora/object/uuid:e53b8dca-a0db-4433-b9f9-e190a507f99f?collection=research) *Probabilistic Design: Risk and Reliability Analysis in Civil Engineering* for a course at TUDelft.\n"
      ]
    },
    {
      "cell_type": "markdown",
      "metadata": {
        "id": "RNMCoZERSUgJ"
      },
      "source": [
        "We will make the following **assumptions** concerning the distribution of our input variables:\n",
        "\n",
        "- pipe radius $r$ follows a normal distribution with a mean of 60 mm and coefficient of variation CV of 0.05 (5%)\n",
        "\n",
        "- wall thickness $W$ follows a normal distribution with a mean of 4 mm and CV of 0.05\n",
        "\n",
        "- the yield strength is also a random variable, following a normal distribution with a mean of 200 MPa and CV of 0.1 (yield strength is a property of a material; it’s the level of stress at which the material starts to deform plastically, or fail from a mechanical point of view)\n",
        "\n",
        "- internal pressure in the vessel is assumed to be constant at 10 MPa\n",
        "\n",
        "The [coefficient of variation](https://en.wikipedia.org/wiki/Coefficient_of_variation) CV is a basic way of specifying uncertainty in a measurement; it’s defined as the ratio of the standard deviation by the mean:\n",
        "\n",
        "$CV = \\frac{\\sigma}{\\mu}$\n",
        "\n",
        "We want to use a Monte Carlo simulation to estimate the probability of failure, which arises when the stress exceeds the yield strength of the vessel."
      ]
    },
    {
      "cell_type": "markdown",
      "metadata": {
        "id": "DTMlDxHYSUgK"
      },
      "source": [
        "## Method \n",
        "\n",
        "Start by defining functions that generate simulated values for the stress and for the yield strength of the vessel."
      ]
    },
    {
      "cell_type": "code",
      "metadata": {
        "id": "SfSv3614SUgL"
      },
      "source": [
        "def simulated_stress():\n",
        "    P = 10\n",
        "    # note that given the definition of the coefficient of variation CV, the stdev is the mean times CV\n",
        "    # ie sigma = mu * CV, here 60*0.05\n",
        "    radius = scipy.stats.norm(60, 60*0.05).rvs()\n",
        "    W = scipy.stats.norm(4, 4*0.05).rvs()\n",
        "    return P * radius / W\n",
        "\n",
        "def simulated_yield_strength():\n",
        "    return scipy.stats.norm(200, 200*0.1).rvs()"
      ],
      "execution_count": null,
      "outputs": []
    },
    {
      "cell_type": "markdown",
      "metadata": {
        "id": "lYPDA_vGSUgL"
      },
      "source": [
        "Let’s run a Monte Carlo simulation to see how many times the stress exceeds the yield strength of the vessel, given our assumptions."
      ]
    },
    {
      "cell_type": "code",
      "metadata": {
        "id": "mfwfsDQ6SUgM"
      },
      "source": [
        "N = 10_000\n",
        "failures = 0\n",
        "stresses = numpy.empty(N)\n",
        "yield_strengths = numpy.empty(N)\n",
        "for i in range(N):\n",
        "    stresses[i] = simulated_stress()\n",
        "    yield_strengths[i] = simulated_yield_strength()\n",
        "    if stresses[i] > yield_strengths[i]:\n",
        "        failures += 1"
      ],
      "execution_count": null,
      "outputs": []
    },
    {
      "cell_type": "markdown",
      "metadata": {
        "id": "5oQ-_CCdSUgM"
      },
      "source": [
        "We can examine the **probability distributions** of the stress and the yield strength."
      ]
    },
    {
      "cell_type": "code",
      "metadata": {
        "id": "GifLAixeSUgN",
        "outputId": "1d8abe18-82ab-421b-c335-aaf3d9dd944e"
      },
      "source": [
        "plt.hist(stresses, alpha=0.5, label=\"Stress\")\n",
        "plt.hist(yield_strengths, alpha=0.5, label=\"Strength\")\n",
        "plt.legend(loc=\"upper right\");"
      ],
      "execution_count": null,
      "outputs": [
        {
          "output_type": "display_data",
          "data": {
            "image/png": "[encoded data removed]",
            "text/plain": [
              "<Figure size 432x288 with 1 Axes>"
            ]
          },
          "metadata": {
            "tags": [],
            "needs_background": "dark"
          }
        }
      ]
    },
    {
      "cell_type": "markdown",
      "metadata": {
        "id": "2_lKWIrDSUgO"
      },
      "source": [
        "Note that the points where failure occurs are the intersection between the two histograms. We can estimate the probability of this failure thanks to the simulation we ran above."
      ]
    },
    {
      "cell_type": "code",
      "metadata": {
        "id": "LDiTRL78SUgO",
        "outputId": "6810da1e-a358-4da7-ba8a-de93caf9eac2"
      },
      "source": [
        "# the probability of failure\n",
        "failures / float(N)"
      ],
      "execution_count": null,
      "outputs": [
        {
          "output_type": "execute_result",
          "data": {
            "text/plain": [
              "0.0138"
            ]
          },
          "metadata": {
            "tags": []
          },
          "execution_count": 5
        }
      ]
    },
    {
      "cell_type": "markdown",
      "metadata": {
        "id": "QeyzTy9OSUgP"
      },
      "source": [
        "## Aside on vectorization"
      ]
    },
    {
      "cell_type": "markdown",
      "metadata": {
        "id": "xRZQuINOSUgP"
      },
      "source": [
        "Our code above uses for loops to run the simulation, which, in most programming languages, is the standard way of executing the same calculation a large number of times. However, the NumPy library offers the possibility of executing vector or **matrix arithmetic**, in which the same operation is executed on all matrix elements “simultaneously”. This allows you to write less verbose code which often executes more quickly on modern computers. For example:"
      ]
    },
    {
      "cell_type": "code",
      "metadata": {
        "id": "vMfzi9L9SUgP",
        "outputId": "2251629c-523d-4223-95dc-026d100d3e6c"
      },
      "source": [
        "N = 10\n",
        "ones = numpy.ones(N)\n",
        "numpy.sqrt(ones + 3 * ones)"
      ],
      "execution_count": null,
      "outputs": [
        {
          "output_type": "execute_result",
          "data": {
            "text/plain": [
              "array([2., 2., 2., 2., 2., 2., 2., 2., 2., 2.])"
            ]
          },
          "metadata": {
            "tags": []
          },
          "execution_count": 6
        }
      ]
    },
    {
      "cell_type": "markdown",
      "metadata": {
        "id": "T1luaLwVSUgQ"
      },
      "source": [
        "On our hoop strength example, we could have written more compactly:"
      ]
    },
    {
      "cell_type": "code",
      "metadata": {
        "id": "zOppLmkmSUgQ",
        "outputId": "2c5f9a3f-d678-45ae-8488-8037e0d9933c"
      },
      "source": [
        "N = 10_000\n",
        "P = 10\n",
        "radius = scipy.stats.norm(60, 60*0.05).rvs(N)\n",
        "W = scipy.stats.norm(4, 4*0.05).rvs(N)\n",
        "yield_strength = scipy.stats.norm(200, 200*0.1).rvs(N)\n",
        "# sum() adds the items in the vector which are not False\n",
        "((P * radius / W) > yield_strength).sum() / float(N)"
      ],
      "execution_count": null,
      "outputs": [
        {
          "output_type": "execute_result",
          "data": {
            "text/plain": [
              "0.0159"
            ]
          },
          "metadata": {
            "tags": []
          },
          "execution_count": 7
        }
      ]
    },
    {
      "cell_type": "markdown",
      "metadata": {
        "id": "uLKEMhoiSUgR"
      },
      "source": [
        "For a fantastic and very detailed document concerning vectorization in NumPy, see [From Python to NumPy](https://www.labri.fr/perso/nrougier/from-python-to-numpy/) by Nicolas Rougier (open access). "
      ]
    }
  ]
}